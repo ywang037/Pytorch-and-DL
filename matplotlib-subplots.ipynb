{
 "cells": [
  {
   "cell_type": "markdown",
   "id": "a0f8e34c-910b-4779-badd-72cc72bb2eac",
   "metadata": {},
   "source": [
    "# Use matplotlib to draw subfigures\n",
    "\n",
    "Here are two useful tutorials for create and adjust the size/layout of subplots using `matlpotlib`\n",
    "* [Matplotlib 中如何创建不同大小的子图 subplot](https://www.delftstack.com/zh/howto/matplotlib/how-to-make-different-subplot-sizes-in-matplotlib/)\n",
    "* [如何在 Matplotlib 中改变子图的大小和间距](https://www.delftstack.com/zh/howto/matplotlib/how-to-improve-subplot-size-or-spacing-with-many-subplots-in-matplotlib/)"
   ]
  },
  {
   "cell_type": "code",
   "execution_count": null,
   "id": "a6e76a64-9b5a-4f1a-90b6-90f50c760d70",
   "metadata": {},
   "outputs": [],
   "source": []
  }
 ],
 "metadata": {
  "kernelspec": {
   "display_name": "Python 3",
   "language": "python",
   "name": "python3"
  },
  "language_info": {
   "codemirror_mode": {
    "name": "ipython",
    "version": 3
   },
   "file_extension": ".py",
   "mimetype": "text/x-python",
   "name": "python",
   "nbconvert_exporter": "python",
   "pygments_lexer": "ipython3",
   "version": "3.8.8"
  }
 },
 "nbformat": 4,
 "nbformat_minor": 5
}
