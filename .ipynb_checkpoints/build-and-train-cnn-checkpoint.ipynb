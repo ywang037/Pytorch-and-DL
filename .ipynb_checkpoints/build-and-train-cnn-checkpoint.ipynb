{
 "cells": [
  {
   "cell_type": "markdown",
   "id": "77e56003",
   "metadata": {},
   "source": [
    "# About \n",
    "In this notebook, we build a CNN network and trains it with CIFAR10 dataset. Two CNN models are used in this notebook:\n",
    "1. the example model shown in PyTorch official tutorial, see [here](https://pytorch.org/tutorials/beginner/blitz/cifar10_tutorial.html) form more informaiton.\n",
    "2. the example model shown in TensorFlow official tutorial, this might be the one used for CIFAR10 experiments in [the vanilla FL paper](https://arxiv.org/abs/1602.05629), see [here](www.tensorflow.org/tutorials/images/cnn) for more informaiton about this model."
   ]
  },
  {
   "cell_type": "code",
   "execution_count": 1,
   "id": "f0a14997",
   "metadata": {},
   "outputs": [],
   "source": [
    "import torch\n",
    "import torch.nn as nn\n",
    "import torch.nn.functional as F\n",
    "import torch.utils.data as data\n",
    "\n",
    "import torchvision\n",
    "from torchvision import transforms\n",
    "from torchvision import datasets\n",
    "\n",
    "# load the pre-defined models and dataloaders of CIFAR10\n",
    "from my_nn_models import CNNCifar \n",
    "from data_preparation import data_setup"
   ]
  },
  {
   "cell_type": "markdown",
   "id": "0b50317d",
   "metadata": {},
   "source": [
    "##### Configuring the training\n",
    "Setup the hyper-parameters to be used in the training"
   ]
  },
  {
   "cell_type": "code",
   "execution_count": 18,
   "id": "b7a317b7",
   "metadata": {},
   "outputs": [],
   "source": [
    "class HyperParam():\n",
    "    def __init__(self, path='..\\data\\cifar',learning_rate=0.1, batch_size=64, epoch=100, momentum=True, nesterov=False):\n",
    "        self.device = 'cuda' if torch.cuda.is_available() else 'cpu'\n",
    "        self.datapath = path\n",
    "        self.lr=learning_rate\n",
    "        self.bs=batch_size\n",
    "        self.epoch=epoch\n",
    "        self.momentum=momentum\n",
    "        self.nesterov=nesterov\n",
    "\n",
    "# an instance of HyperParam() class to set the parameters  \n",
    "settings = HyperParam(batch_size=4)\n",
    "\n",
    "# an instance of CNNCifar() model class\n",
    "model = CNNCifar().to(settings.device)\n",
    "\n",
    "# setup the loss function and optimizer\n",
    "loss_fn = nn.CrossEntropyLoss().to(settings.device)\n",
    "if settings.nesterov:\n",
    "    optimizer = torch.optim.SGD(model.parameters(), lr=settings.lr, momentum=settings.momentum, nesterov=settings.nesterov)\n",
    "else:\n",
    "    optimizer = torch.optim.SGD(model.parameters(), lr=settings.lr)"
   ]
  },
  {
   "cell_type": "markdown",
   "id": "3c4d8863",
   "metadata": {},
   "source": [
    "##### Verify the configurations"
   ]
  },
  {
   "cell_type": "code",
   "execution_count": 21,
   "id": "328bcf63",
   "metadata": {},
   "outputs": [
    {
     "name": "stdout",
     "output_type": "stream",
     "text": [
      "0.1 4 100 True cpu ..\\data\\cifar\n",
      "CNNCifar(\n",
      "  (conv_layer): Sequential(\n",
      "    (0): Conv2d(3, 6, kernel_size=(5, 5), stride=(1, 1))\n",
      "    (1): ReLU()\n",
      "    (2): MaxPool2d(kernel_size=2, stride=2, padding=0, dilation=1, ceil_mode=False)\n",
      "    (3): Conv2d(6, 16, kernel_size=(5, 5), stride=(1, 1))\n",
      "    (4): ReLU()\n",
      "    (5): MaxPool2d(kernel_size=2, stride=2, padding=0, dilation=1, ceil_mode=False)\n",
      "  )\n",
      "  (fc_layer): Sequential(\n",
      "    (0): Linear(in_features=400, out_features=120, bias=True)\n",
      "    (1): ReLU()\n",
      "    (2): Linear(in_features=120, out_features=84, bias=True)\n",
      "    (3): ReLU()\n",
      "    (4): Linear(in_features=84, out_features=10, bias=True)\n",
      "  )\n",
      ")\n",
      "CrossEntropyLoss()\n",
      "100 4\n"
     ]
    }
   ],
   "source": [
    "print(settings.lr,settings.bs, settings.epoch, settings.momentum, settings.device, settings.datapath)\n",
    "print(model)\n",
    "print(loss_fn)\n",
    "print(settings.epoch, settings.bs)"
   ]
  },
  {
   "cell_type": "markdown",
   "id": "aeb00c18",
   "metadata": {},
   "source": [
    "##### Verify the dataloader"
   ]
  },
  {
   "cell_type": "code",
   "execution_count": 20,
   "id": "4aeaa1b0",
   "metadata": {},
   "outputs": [
    {
     "name": "stdout",
     "output_type": "stream",
     "text": [
      "tensor([7, 2, 2, 5])\n"
     ]
    }
   ],
   "source": [
    "loader_train, loader_test = data_setup(path=settings.datapath,batch_size=settings.bs)\n",
    "# check out the imagesize\n",
    "train_iter = iter(loader_train)\n",
    "images, labels = train_iter.next()\n",
    "print(labels)\n",
    "# len(loader_train.dataset)"
   ]
  },
  {
   "cell_type": "markdown",
   "id": "b66fff8f",
   "metadata": {},
   "source": [
    "##### Start the training\n",
    "We do not practice the procedure of training here, since it takes time, so the related code section for training is commented out."
   ]
  },
  {
   "cell_type": "code",
   "execution_count": 23,
   "id": "148957ed",
   "metadata": {},
   "outputs": [],
   "source": [
    "# # start training\n",
    "# for epoch in range(1, epochs+1):\n",
    "#     train_loss = 0.0\n",
    "#     test_acc = 0.0\n",
    "#     model.train()\n",
    "#     for batch, (images, labels) in enumerate(loader_train):\n",
    "#         images, labels = images.to(device), labels.to(device)\n",
    "#         optimizer.zero_grad()\n",
    "#         outputs = model(images)\n",
    "#         loss = loss_fn(outputs, labels)\n",
    "#         loss.backward()\n",
    "#         optimizer.step()\n",
    "#         train_loss+=train_loss.item() * images.size(0)\n",
    "#     epoch_loss = train_loss/len(loader_train.dataset)"
   ]
  },
  {
   "cell_type": "markdown",
   "id": "d14abfb6",
   "metadata": {},
   "source": [
    "##### TensorFlow CNN example model\n",
    "We can also setup this model, and do some simple verification on correctneess of model structure"
   ]
  },
  {
   "cell_type": "code",
   "execution_count": 26,
   "id": "7a690825",
   "metadata": {},
   "outputs": [
    {
     "name": "stdout",
     "output_type": "stream",
     "text": [
      "CNNCifarTf(\n",
      "  (conv_layer): Sequential(\n",
      "    (0): Conv2d(3, 32, kernel_size=(3, 3), stride=(1, 1))\n",
      "    (1): ReLU()\n",
      "    (2): MaxPool2d(kernel_size=2, stride=2, padding=0, dilation=1, ceil_mode=False)\n",
      "    (3): Conv2d(32, 64, kernel_size=(3, 3), stride=(1, 1))\n",
      "    (4): ReLU()\n",
      "    (5): MaxPool2d(kernel_size=2, stride=2, padding=0, dilation=1, ceil_mode=False)\n",
      "    (6): Conv2d(64, 64, kernel_size=(3, 3), stride=(1, 1))\n",
      "    (7): ReLU()\n",
      "  )\n",
      "  (fc_layer): Sequential(\n",
      "    (0): Linear(in_features=1024, out_features=64, bias=True)\n",
      "    (1): ReLU()\n",
      "    (2): Linear(in_features=64, out_features=10, bias=True)\n",
      "    (3): ReLU()\n",
      "  )\n",
      ")\n",
      "\n",
      " tensor([[2],\n",
      "        [7],\n",
      "        [7],\n",
      "        [7]])\n"
     ]
    }
   ],
   "source": [
    "from my_nn_models import CNNCifarTf\n",
    "model_tf = CNNCifarTf()\n",
    "print(model_tf)\n",
    "\n",
    "test_sample = images # this is the images batch loaded previously\n",
    "test_output = model_tf(test_sample).argmax(1,keepdim=True)\n",
    "print('\\n', test_output)"
   ]
  }
 ],
 "metadata": {
  "kernelspec": {
   "display_name": "Python 3",
   "language": "python",
   "name": "python3"
  },
  "language_info": {
   "codemirror_mode": {
    "name": "ipython",
    "version": 3
   },
   "file_extension": ".py",
   "mimetype": "text/x-python",
   "name": "python",
   "nbconvert_exporter": "python",
   "pygments_lexer": "ipython3",
   "version": "3.8.8"
  }
 },
 "nbformat": 4,
 "nbformat_minor": 5
}
