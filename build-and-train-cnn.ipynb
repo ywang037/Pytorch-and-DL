{
 "cells": [
  {
   "cell_type": "markdown",
   "id": "fd4c82fc",
   "metadata": {},
   "source": [
    "# About \n",
    "In this notebook, we build a CNN network and trains it with CIFAR10 dataset"
   ]
  },
  {
   "cell_type": "code",
   "execution_count": 1,
   "id": "1bb09802",
   "metadata": {},
   "outputs": [],
   "source": [
    "import torch\n",
    "import torch.nn as nn\n",
    "import torch.nn.functional as F\n",
    "import torch.utils.data as data\n",
    "\n",
    "import torchvision\n",
    "from torchvision import transforms\n",
    "from torchvision import datasets\n",
    "\n",
    "from models import CNNCifar\n",
    "from data_preparation import data_setup\n"
   ]
  },
  {
   "cell_type": "code",
   "execution_count": 7,
   "id": "ea662624",
   "metadata": {},
   "outputs": [
    {
     "name": "stdout",
     "output_type": "stream",
     "text": [
      "0.1 4 100 True cuda ..\\data\\cifar\n",
      "CNNCifar(\n",
      "  (conv_layer): Sequential(\n",
      "    (0): Conv2d(3, 6, kernel_size=(5, 5), stride=(1, 1))\n",
      "    (1): ReLU()\n",
      "    (2): MaxPool2d(kernel_size=2, stride=2, padding=0, dilation=1, ceil_mode=False)\n",
      "    (3): Conv2d(6, 16, kernel_size=(5, 5), stride=(1, 1))\n",
      "    (4): ReLU()\n",
      "    (5): MaxPool2d(kernel_size=2, stride=2, padding=0, dilation=1, ceil_mode=False)\n",
      "  )\n",
      "  (fc_layer): Sequential(\n",
      "    (0): Linear(in_features=400, out_features=120, bias=True)\n",
      "    (1): ReLU()\n",
      "    (2): Linear(in_features=120, out_features=84, bias=True)\n",
      "    (3): ReLU()\n",
      "    (4): Linear(in_features=84, out_features=10, bias=True)\n",
      "  )\n",
      ")\n",
      "CrossEntropyLoss()\n"
     ]
    },
    {
     "data": {
      "text/plain": [
       "100"
      ]
     },
     "execution_count": 7,
     "metadata": {},
     "output_type": "execute_result"
    }
   ],
   "source": [
    "class HyperParam():\n",
    "    def __init__(self, path='..\\data\\cifar',learning_rate=0.1, batch_size=64, epoch=100, momentum=True, nesterov=False):\n",
    "        self.device = 'cuda' if torch.cuda.is_available() else 'cpu'\n",
    "        self.datapath = path\n",
    "        self.lr=learning_rate\n",
    "        self.bs=batch_size\n",
    "        self.epoch=epoch\n",
    "        self.momentum=momentum\n",
    "        self.nesterov=nesterov\n",
    "\n",
    "settings = HyperParam(batch_size=4)\n",
    "model = CNNCifar().to(settings.device)\n",
    "loss_fn = nn.CrossEntropyLoss().to(settings.device)\n",
    "if settings.nesterov:\n",
    "    optimizer = torch.optim.SGD(model.parameters(), lr=settings.lr, momentum=settings.momentum, nesterov=settings.nesterov)\n",
    "else:\n",
    "    optimizer = torch.optim.SGD(model.parameters(), lr=settings.lr)\n",
    "print(settings.lr,settings.bs, settings.epoch, settings.momentum, settings.device, settings.datapath)\n",
    "print(model)\n",
    "print(loss_fn)\n",
    "settings.epoch"
   ]
  },
  {
   "cell_type": "code",
   "execution_count": 3,
   "id": "05ee886e",
   "metadata": {},
   "outputs": [
    {
     "name": "stdout",
     "output_type": "stream",
     "text": [
      "tensor([7, 3, 9, 9])\n"
     ]
    }
   ],
   "source": [
    "loader_train, loader_test = data_setup(path=settings.datapath,batch_size=settings.bs)\n",
    "# check out the imagesize\n",
    "train_iter = iter(loader_train)\n",
    "images, labels = train_iter.next()\n",
    "print(labels)\n",
    "# len(loader_train.dataset)"
   ]
  },
  {
   "cell_type": "code",
   "execution_count": 4,
   "id": "e490bdf4",
   "metadata": {},
   "outputs": [],
   "source": [
    "# define loss and optimizer\n",
    "loss_fn = nn.CrossEntropyLoss().to(settings.device)\n",
    "optimizer = torch.optim.SGD(model.parameters(), lr=settings.lr, momentum=0.9, nesterov=True)\n",
    "\n",
    "# # start training\n",
    "# for epoch in range(1, epochs+1):\n",
    "#     train_loss = 0.0\n",
    "#     test_acc = 0.0\n",
    "#     model.train()\n",
    "#     for batch, (images, labels) in enumerate(loader_train):\n",
    "#         images, labels = images.to(device), labels.to(device)\n",
    "#         optimizer.zero_grad()\n",
    "#         outputs = model(images)\n",
    "#         loss = loss_fn(outputs, labels)\n",
    "#         loss.backward()\n",
    "#         optimizer.step()\n",
    "#         train_loss+=train_loss.item() * images.size(0)\n",
    "#     epoch_loss = train_loss/len(loader_train.dataset)\n",
    "\n"
   ]
  },
  {
   "cell_type": "code",
   "execution_count": 5,
   "id": "55989054",
   "metadata": {},
   "outputs": [
    {
     "data": {
      "text/plain": [
       "'C:\\\\Users\\\\wangyuan\\\\my-torch-handson\\\\Pytorch-and-DL'"
      ]
     },
     "execution_count": 5,
     "metadata": {},
     "output_type": "execute_result"
    }
   ],
   "source": [
    "import os\n",
    "os.getcwd()"
   ]
  },
  {
   "cell_type": "code",
   "execution_count": null,
   "id": "3166369c-7cf1-4b6a-80f4-ce84bcfc0c33",
   "metadata": {},
   "outputs": [],
   "source": []
  }
 ],
 "metadata": {
  "kernelspec": {
   "display_name": "Python 3",
   "language": "python",
   "name": "python3"
  },
  "language_info": {
   "codemirror_mode": {
    "name": "ipython",
    "version": 3
   },
   "file_extension": ".py",
   "mimetype": "text/x-python",
   "name": "python",
   "nbconvert_exporter": "python",
   "pygments_lexer": "ipython3",
   "version": "3.8.8"
  }
 },
 "nbformat": 4,
 "nbformat_minor": 5
}
