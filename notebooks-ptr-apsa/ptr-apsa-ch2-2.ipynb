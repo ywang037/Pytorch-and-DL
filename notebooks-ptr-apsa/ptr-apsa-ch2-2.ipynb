{
 "cells": [
  {
   "cell_type": "markdown",
   "id": "b94cc6fb",
   "metadata": {},
   "source": [
    "##### Notice\n",
    "The Variable API **has been deprecated**: Variables are no longer necessary to use autograd with tensors. Autograd automatically supports Tensors with `requires_grad` set to `True`. Find what has been changed <a href=\"https://pytorch.org/docs/1.8.1/autograd.html#variable-deprecated\">here</a>\n",
    "\n",
    "##### Summary\n",
    "In this note, we do Variable tensors and gradient."
   ]
  },
  {
   "cell_type": "code",
   "execution_count": 3,
   "id": "ae9e565b",
   "metadata": {},
   "outputs": [],
   "source": [
    "import torch\n",
    "import numpy as np\n",
    "import matplotlib.pyplot as plt\n",
    "from torch.autograd import Variable"
   ]
  },
  {
   "cell_type": "code",
   "execution_count": 5,
   "id": "6498375e",
   "metadata": {},
   "outputs": [
    {
     "data": {
      "text/plain": [
       "tensor([[1., 1.],\n",
       "        [1., 1.]], requires_grad=True)"
      ]
     },
     "execution_count": 5,
     "metadata": {},
     "output_type": "execute_result"
    }
   ],
   "source": [
    "x = Variable(torch.ones(2,2),requires_grad=True)\n",
    "x"
   ]
  },
  {
   "cell_type": "code",
   "execution_count": 9,
   "id": "832f8407",
   "metadata": {},
   "outputs": [],
   "source": [
    "a,b = 10,20\n",
    "x1 = Variable(torch.randn(a,b),requires_grad=True)\n",
    "x2 = Variable(torch.randn(a,b),requires_grad=True)\n",
    "x3 = Variable(torch.randn(a,b),requires_grad=True)"
   ]
  },
  {
   "cell_type": "code",
   "execution_count": 22,
   "id": "f48eb1fc",
   "metadata": {},
   "outputs": [
    {
     "name": "stdout",
     "output_type": "stream",
     "text": [
      "tensor(21.9081, grad_fn=<SumBackward0>)\n"
     ]
    }
   ],
   "source": [
    "c = x1*x2\n",
    "d = c + x3\n",
    "e=torch.sum(d)\n",
    "e.backward()\n",
    "print(e)"
   ]
  },
  {
   "cell_type": "code",
   "execution_count": 21,
   "id": "860b4d20",
   "metadata": {},
   "outputs": [
    {
     "data": {
      "text/plain": [
       "torch.Size([10, 20])"
      ]
     },
     "execution_count": 21,
     "metadata": {},
     "output_type": "execute_result"
    }
   ],
   "source": [
    "c.shape"
   ]
  },
  {
   "cell_type": "code",
   "execution_count": null,
   "id": "7191f27f",
   "metadata": {},
   "outputs": [],
   "source": []
  }
 ],
 "metadata": {
  "kernelspec": {
   "display_name": "Python 3",
   "language": "python",
   "name": "python3"
  },
  "language_info": {
   "codemirror_mode": {
    "name": "ipython",
    "version": 3
   },
   "file_extension": ".py",
   "mimetype": "text/x-python",
   "name": "python",
   "nbconvert_exporter": "python",
   "pygments_lexer": "ipython3",
   "version": "3.8.8"
  }
 },
 "nbformat": 4,
 "nbformat_minor": 5
}
