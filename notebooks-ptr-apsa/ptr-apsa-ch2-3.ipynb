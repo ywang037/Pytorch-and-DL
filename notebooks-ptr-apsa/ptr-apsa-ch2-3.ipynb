{
 "cells": [
  {
   "cell_type": "markdown",
   "id": "ff52a9ff",
   "metadata": {},
   "source": [
    "##### 2-3 Summary\n",
    "In this note we do some basic statistics"
   ]
  },
  {
   "cell_type": "code",
   "execution_count": 1,
   "id": "21b8953d",
   "metadata": {},
   "outputs": [],
   "source": [
    "import torch\n",
    "import numpy as np"
   ]
  },
  {
   "cell_type": "markdown",
   "id": "56082633",
   "metadata": {},
   "source": [
    "First, let's use or seed 666 and prepare some random numbers from both uniform distribution and normal distribution"
   ]
  },
  {
   "cell_type": "code",
   "execution_count": 2,
   "id": "d8b9bb38",
   "metadata": {},
   "outputs": [
    {
     "data": {
      "text/plain": [
       "666"
      ]
     },
     "execution_count": 2,
     "metadata": {},
     "output_type": "execute_result"
    }
   ],
   "source": [
    "myseed = 666\n",
    "myseed"
   ]
  },
  {
   "cell_type": "code",
   "execution_count": 21,
   "id": "1cb101c7",
   "metadata": {},
   "outputs": [],
   "source": [
    "torch.manual_seed(myseed)\n",
    "# uniform distribution\n",
    "num_samples_u1 = 200\n",
    "num_samples_u2 = (4,50)\n",
    "unf_from = 3\n",
    "unf_to = 7\n",
    "xu1 = torch.Tensor(num_samples_u1).uniform_(unf_from,unf_to) # this generates a vector\n",
    "xu2 = torch.Tensor(size=num_samples_u2).uniform_(unf_from,unf_to) # this generates a matrix\n",
    "\n",
    "# normal distribution\n",
    "mu = torch.Tensor((1,)).uniform_(0,10).tolist()[0] # this is a float number\n",
    "var = torch.Tensor((1,)).uniform_(1,2) # this is a tensor\n",
    "std = torch.sqrt(var).tolist()[0] # now this is a float number\n",
    "xn1 = torch.normal(mu,std,size=(4,50))"
   ]
  },
  {
   "cell_type": "code",
   "execution_count": 22,
   "id": "8dc9ea8f",
   "metadata": {},
   "outputs": [
    {
     "data": {
      "text/plain": [
       "torch.Size([200])"
      ]
     },
     "execution_count": 22,
     "metadata": {},
     "output_type": "execute_result"
    }
   ],
   "source": [
    "xu1.shape"
   ]
  },
  {
   "cell_type": "code",
   "execution_count": 23,
   "id": "57fd4f2f",
   "metadata": {},
   "outputs": [
    {
     "data": {
      "text/plain": [
       "torch.Size([4, 50])"
      ]
     },
     "execution_count": 23,
     "metadata": {},
     "output_type": "execute_result"
    }
   ],
   "source": [
    "xu2.shape"
   ]
  },
  {
   "cell_type": "code",
   "execution_count": 24,
   "id": "876f77e1",
   "metadata": {},
   "outputs": [
    {
     "data": {
      "text/plain": [
       "0.9447163343429565"
      ]
     },
     "execution_count": 24,
     "metadata": {},
     "output_type": "execute_result"
    }
   ],
   "source": [
    "mu"
   ]
  },
  {
   "cell_type": "code",
   "execution_count": 25,
   "id": "f71ace81",
   "metadata": {},
   "outputs": [
    {
     "data": {
      "text/plain": [
       "1.2067664861679077"
      ]
     },
     "execution_count": 25,
     "metadata": {},
     "output_type": "execute_result"
    }
   ],
   "source": [
    "std"
   ]
  },
  {
   "cell_type": "code",
   "execution_count": 26,
   "id": "dcfb7920",
   "metadata": {},
   "outputs": [
    {
     "data": {
      "text/plain": [
       "torch.Size([4, 50])"
      ]
     },
     "execution_count": 26,
     "metadata": {},
     "output_type": "execute_result"
    }
   ],
   "source": [
    "xn1.shape"
   ]
  },
  {
   "cell_type": "markdown",
   "id": "6bd9399b",
   "metadata": {},
   "source": [
    "##### Mean, median, mode, and variance\n",
    "Now let's find the mean and other statistics with the data we generated and PyTorch"
   ]
  },
  {
   "cell_type": "code",
   "execution_count": 27,
   "id": "ddb7d553",
   "metadata": {},
   "outputs": [
    {
     "data": {
      "text/plain": [
       "tensor(4.8489)"
      ]
     },
     "execution_count": 27,
     "metadata": {},
     "output_type": "execute_result"
    }
   ],
   "source": [
    "mean_xu1 = torch.mean(xu1)\n",
    "mean_xu1"
   ]
  },
  {
   "cell_type": "code",
   "execution_count": 30,
   "id": "41d273df",
   "metadata": {},
   "outputs": [
    {
     "data": {
      "text/plain": [
       "tensor([3.7503, 5.4934, 4.4330, 4.9035, 4.3934, 5.5074, 5.1164, 6.4177, 5.7957,\n",
       "        4.1885, 4.5731, 5.4794, 5.1549, 5.3315, 4.9349, 4.9899, 5.2316, 5.2330,\n",
       "        4.9208, 4.0098, 5.0352, 5.0241, 4.2169, 3.8161, 4.8836, 5.5552, 5.3562,\n",
       "        4.7586, 4.6672, 4.1459, 4.9479, 5.0256, 5.1494, 4.6811, 5.4451, 3.9756,\n",
       "        4.9959, 5.1403, 5.1759, 5.0407, 5.2402, 5.0127, 5.2263, 4.0064, 5.1929,\n",
       "        4.2427, 5.8292, 5.0571, 5.0327, 5.1899])"
      ]
     },
     "execution_count": 30,
     "metadata": {},
     "output_type": "execute_result"
    }
   ],
   "source": [
    "mean_xu1 = torch.mean(xu2,dim=0) # this computes the mean of each column\n",
    "mean_xu1"
   ]
  },
  {
   "cell_type": "code",
   "execution_count": 32,
   "id": "c41d2de0",
   "metadata": {},
   "outputs": [
    {
     "data": {
      "text/plain": [
       "torch.Size([50])"
      ]
     },
     "execution_count": 32,
     "metadata": {},
     "output_type": "execute_result"
    }
   ],
   "source": [
    "mean_xu1.shape"
   ]
  },
  {
   "cell_type": "code",
   "execution_count": 31,
   "id": "ee7dbb1a",
   "metadata": {},
   "outputs": [
    {
     "data": {
      "text/plain": [
       "tensor([5.0744, 4.8938, 4.9097, 4.8760])"
      ]
     },
     "execution_count": 31,
     "metadata": {},
     "output_type": "execute_result"
    }
   ],
   "source": [
    "mean_xu2 = torch.mean(xu2,dim=1) # this computes the mean of each row\n",
    "mean_xu2"
   ]
  },
  {
   "cell_type": "code",
   "execution_count": 34,
   "id": "295d8061",
   "metadata": {},
   "outputs": [
    {
     "data": {
      "text/plain": [
       "tensor([ 2.0197,  0.0442,  2.0685,  1.1290,  0.2873, -0.0504,  1.0093,  1.5484,\n",
       "         2.0560,  1.3254, -0.4761,  0.7700,  1.9087,  0.7257,  0.7613,  0.4783,\n",
       "         0.3638,  0.3205,  0.8334,  1.7096,  0.7225,  0.9616,  0.5277,  1.0337,\n",
       "         0.4989,  1.2463,  0.3820,  1.1675,  0.4969,  0.3297,  1.8535,  0.1824,\n",
       "         0.6311,  1.2271,  0.4382,  0.5721,  0.7661,  0.6623,  0.2628,  0.2451,\n",
       "         0.9482,  0.5749,  1.0426,  1.5270,  0.0412,  1.1882,  1.0647,  1.2649,\n",
       "         0.6645,  0.5166])"
      ]
     },
     "execution_count": 34,
     "metadata": {},
     "output_type": "execute_result"
    }
   ],
   "source": [
    "mean_xn1 = torch.mean(xn1,dim=0)\n",
    "mean_xn1"
   ]
  },
  {
   "cell_type": "code",
   "execution_count": 35,
   "id": "624cf6b1",
   "metadata": {},
   "outputs": [
    {
     "data": {
      "text/plain": [
       "torch.Size([50])"
      ]
     },
     "execution_count": 35,
     "metadata": {},
     "output_type": "execute_result"
    }
   ],
   "source": [
    "mean_xn1.shape"
   ]
  },
  {
   "cell_type": "code",
   "execution_count": 36,
   "id": "fa604d54",
   "metadata": {},
   "outputs": [
    {
     "data": {
      "text/plain": [
       "tensor([0.6724, 0.7078, 1.0031, 0.9666])"
      ]
     },
     "execution_count": 36,
     "metadata": {},
     "output_type": "execute_result"
    }
   ],
   "source": [
    "mean_xn2 = torch.mean(xn1,dim=1)\n",
    "mean_xn2"
   ]
  },
  {
   "cell_type": "markdown",
   "id": "431dc5df",
   "metadata": {},
   "source": [
    "Median and mode can be found in a similar way, just to repalce `torch.mean(input,dim)` with `torch.median(input,dim)` or `torch.mod(input,dim)`"
   ]
  },
  {
   "cell_type": "code",
   "execution_count": null,
   "id": "5d8d88d9",
   "metadata": {},
   "outputs": [],
   "source": []
  }
 ],
 "metadata": {
  "kernelspec": {
   "display_name": "Python 3",
   "language": "python",
   "name": "python3"
  },
  "language_info": {
   "codemirror_mode": {
    "name": "ipython",
    "version": 3
   },
   "file_extension": ".py",
   "mimetype": "text/x-python",
   "name": "python",
   "nbconvert_exporter": "python",
   "pygments_lexer": "ipython3",
   "version": "3.8.8"
  }
 },
 "nbformat": 4,
 "nbformat_minor": 5
}
