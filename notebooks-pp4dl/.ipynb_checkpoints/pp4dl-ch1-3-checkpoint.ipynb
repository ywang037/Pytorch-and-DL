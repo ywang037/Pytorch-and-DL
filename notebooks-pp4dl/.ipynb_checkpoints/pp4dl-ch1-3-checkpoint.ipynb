{
 "cells": [
  {
   "cell_type": "markdown",
   "id": "9ba312c5",
   "metadata": {},
   "source": [
    "# About\n",
    "In this note, we load the dummpy untrained model and then practice how to do training"
   ]
  },
  {
   "cell_type": "code",
   "execution_count": 1,
   "id": "edf6fbd9",
   "metadata": {},
   "outputs": [],
   "source": [
    "import torch\n",
    "from my_models import MySecondNet"
   ]
  },
  {
   "cell_type": "markdown",
   "id": "e66ec573",
   "metadata": {},
   "source": [
    "##### Load the saved untrained model from local files"
   ]
  },
  {
   "cell_type": "code",
   "execution_count": 2,
   "id": "b1a1acf3",
   "metadata": {},
   "outputs": [
    {
     "name": "stdout",
     "output_type": "stream",
     "text": [
      "MySecondNet(\n",
      "  (layer_stack): Sequential(\n",
      "    (0): Linear(in_features=3072, out_features=512, bias=True)\n",
      "    (1): ReLU()\n",
      "    (2): Linear(in_features=512, out_features=512, bias=True)\n",
      "    (3): ReLU()\n",
      "    (4): Linear(in_features=512, out_features=10, bias=True)\n",
      "  )\n",
      ")\n"
     ]
    }
   ],
   "source": [
    "# first approach, load the model that is saved together with weights\n",
    "model_1 = torch.load('./my-models/my-silly-net2.pth')\n",
    "print(model_1)"
   ]
  },
  {
   "cell_type": "code",
   "execution_count": 3,
   "id": "b982ed17",
   "metadata": {},
   "outputs": [
    {
     "data": {
      "text/plain": [
       "MySecondNet(\n",
       "  (layer_stack): Sequential(\n",
       "    (0): Linear(in_features=3072, out_features=512, bias=True)\n",
       "    (1): ReLU()\n",
       "    (2): Linear(in_features=512, out_features=512, bias=True)\n",
       "    (3): ReLU()\n",
       "    (4): Linear(in_features=512, out_features=10, bias=True)\n",
       "  )\n",
       ")"
      ]
     },
     "execution_count": 3,
     "metadata": {},
     "output_type": "execute_result"
    }
   ],
   "source": [
    "# second approach, first create the model class, then load the weights and evaluate the model\n",
    "model_2 = MySecondNet()\n",
    "model_state_dict = torch.load('./my-models/my-silly-net2-weights.pth')\n",
    "model_2.load_state_dict(model_state_dict)\n",
    "model_2.eval()"
   ]
  },
  {
   "cell_type": "code",
   "execution_count": 8,
   "id": "0daf0487",
   "metadata": {},
   "outputs": [
    {
     "name": "stdout",
     "output_type": "stream",
     "text": [
      "Layer: layer_stack.0.weight | Size: torch.Size([512, 3072]) | Values : tensor([[-0.0147, -0.0041,  0.0060,  ..., -0.0034,  0.0105, -0.0010],\n",
      "        [ 0.0022,  0.0155,  0.0112,  ..., -0.0071,  0.0160, -0.0093]],\n",
      "       grad_fn=<SliceBackward>) \n",
      "\n",
      "Layer: layer_stack.0.bias | Size: torch.Size([512]) | Values : tensor([-0.0151, -0.0056], grad_fn=<SliceBackward>) \n",
      "\n",
      "Layer: layer_stack.2.weight | Size: torch.Size([512, 512]) | Values : tensor([[-0.0355,  0.0287, -0.0202,  ...,  0.0258, -0.0147, -0.0175],\n",
      "        [-0.0283, -0.0047,  0.0037,  ...,  0.0192,  0.0162, -0.0056]],\n",
      "       grad_fn=<SliceBackward>) \n",
      "\n",
      "Layer: layer_stack.2.bias | Size: torch.Size([512]) | Values : tensor([-0.0316, -0.0138], grad_fn=<SliceBackward>) \n",
      "\n",
      "Layer: layer_stack.4.weight | Size: torch.Size([10, 512]) | Values : tensor([[-0.0184,  0.0359,  0.0304,  ..., -0.0227,  0.0050,  0.0403],\n",
      "        [-0.0314, -0.0050,  0.0260,  ..., -0.0158, -0.0127, -0.0051]],\n",
      "       grad_fn=<SliceBackward>) \n",
      "\n",
      "Layer: layer_stack.4.bias | Size: torch.Size([10]) | Values : tensor([ 0.0060, -0.0234], grad_fn=<SliceBackward>) \n",
      "\n"
     ]
    }
   ],
   "source": [
    "for name, param in model_2.named_parameters():\n",
    "    print(f\"Layer: {name} | Size: {param.size()} | Values : {param[:2]} \\n\")"
   ]
  },
  {
   "cell_type": "code",
   "execution_count": 10,
   "id": "d0297d69",
   "metadata": {},
   "outputs": [
    {
     "name": "stdout",
     "output_type": "stream",
     "text": [
      "<class 'torch.nn.parameter.Parameter'> torch.Size([512, 3072])\n",
      "<class 'torch.nn.parameter.Parameter'> torch.Size([512])\n",
      "<class 'torch.nn.parameter.Parameter'> torch.Size([512, 512])\n",
      "<class 'torch.nn.parameter.Parameter'> torch.Size([512])\n",
      "<class 'torch.nn.parameter.Parameter'> torch.Size([10, 512])\n",
      "<class 'torch.nn.parameter.Parameter'> torch.Size([10])\n"
     ]
    }
   ],
   "source": [
    "for para in model_2.parameters():\n",
    "    print(type(para),para.size())"
   ]
  },
  {
   "cell_type": "code",
   "execution_count": null,
   "id": "9741dfa9",
   "metadata": {},
   "outputs": [],
   "source": []
  }
 ],
 "metadata": {
  "kernelspec": {
   "display_name": "Python 3",
   "language": "python",
   "name": "python3"
  },
  "language_info": {
   "codemirror_mode": {
    "name": "ipython",
    "version": 3
   },
   "file_extension": ".py",
   "mimetype": "text/x-python",
   "name": "python",
   "nbconvert_exporter": "python",
   "pygments_lexer": "ipython3",
   "version": "3.8.8"
  }
 },
 "nbformat": 4,
 "nbformat_minor": 5
}
