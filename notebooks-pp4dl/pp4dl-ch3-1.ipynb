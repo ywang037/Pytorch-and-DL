{
 "cells": [
  {
   "cell_type": "markdown",
   "id": "051b0576",
   "metadata": {},
   "source": [
    "# About\n",
    "In this notebook, we practice model training for a linear regression model and study the `autograd` mechanism, following **chapter 3** in the book *Deep learning with PyTorch: a quick start guide*"
   ]
  },
  {
   "cell_type": "code",
   "execution_count": 1,
   "id": "5206ee2c",
   "metadata": {},
   "outputs": [],
   "source": [
    "import torch\n",
    "import torch.nn as nn\n",
    "import torch.optim as optim\n",
    "import torch.utils.data as data\n",
    "import matplotlib.pyplot as plt"
   ]
  },
  {
   "cell_type": "code",
   "execution_count": 2,
   "id": "b5512929",
   "metadata": {},
   "outputs": [
    {
     "data": {
      "text/plain": [
       "<torch._C.Generator at 0x1c677224db0>"
      ]
     },
     "execution_count": 2,
     "metadata": {},
     "output_type": "execute_result"
    }
   ],
   "source": [
    "torch.manual_seed(666)"
   ]
  },
  {
   "cell_type": "markdown",
   "id": "297618c3",
   "metadata": {},
   "source": [
    "##### Build our linear regression model"
   ]
  },
  {
   "cell_type": "code",
   "execution_count": 3,
   "id": "499872e4",
   "metadata": {},
   "outputs": [
    {
     "name": "stdout",
     "output_type": "stream",
     "text": [
      "MyLinearModel(\n",
      "  (linear): Linear(in_features=2, out_features=1, bias=True)\n",
      ")\n"
     ]
    }
   ],
   "source": [
    "# define the model subclass\n",
    "class MyLinearModel(nn.Module):\n",
    "    def __init__(self, dim_in, dim_out):\n",
    "        super().__init__()\n",
    "        self.linear = nn.Linear(dim_in,dim_out)\n",
    "        \n",
    "    def forward(self,x):\n",
    "        return self.linear(x)\n",
    "    \n",
    "model = MyLinearModel(2,1) # make the instance of the model class\n",
    "print(model)"
   ]
  },
  {
   "cell_type": "markdown",
   "id": "cd2f0faa",
   "metadata": {},
   "source": [
    "In the above we build a linear regression model $y=\\mathbf{w}^T \\mathbf{x} + b$ were output $y,b\\in\\mathbb{R}$, input $\\mathbf{x}\\in\\mathbb{R}^2$ and weight vector $\\mathbf{w}\\in\\mathbb{R}^2$\n",
    "\n",
    "We can check if the parameter size of our built model fits the theoretical counterpart:"
   ]
  },
  {
   "cell_type": "code",
   "execution_count": 4,
   "id": "e3c3d8d2",
   "metadata": {},
   "outputs": [
    {
     "name": "stdout",
     "output_type": "stream",
     "text": [
      "Parameter containing:\n",
      "tensor([[-0.2660, -0.3251]], requires_grad=True)\n",
      "torch.Size([1, 2])\n",
      "Parameter containing:\n",
      "tensor([-0.5490], requires_grad=True)\n",
      "torch.Size([1])\n"
     ]
    }
   ],
   "source": [
    "for para in model.parameters():\n",
    "    print(para)\n",
    "    print(para.size())"
   ]
  },
  {
   "cell_type": "code",
   "execution_count": 5,
   "id": "d7501aba",
   "metadata": {},
   "outputs": [
    {
     "name": "stdout",
     "output_type": "stream",
     "text": [
      "Layer: linear.weight | Size: torch.Size([1, 2]) | Values : tensor([[-0.2660, -0.3251]], grad_fn=<SliceBackward>) \n",
      "\n",
      "Layer: linear.bias | Size: torch.Size([1]) | Values : tensor([-0.5490], grad_fn=<SliceBackward>) \n",
      "\n"
     ]
    }
   ],
   "source": [
    "for name, param in model.named_parameters():\n",
    "    print(f\"Layer: {name} | Size: {param.size()} | Values : {param[:2]} \\n\")"
   ]
  },
  {
   "cell_type": "markdown",
   "id": "fa99d4f7",
   "metadata": {},
   "source": [
    "##### Train the model (estimate the parameters, i.e., weight and bias)"
   ]
  },
  {
   "cell_type": "code",
   "execution_count": 6,
   "id": "c93fa6f5",
   "metadata": {},
   "outputs": [
    {
     "name": "stdout",
     "output_type": "stream",
     "text": [
      "MyLinearModel(\n",
      "  (linear): Linear(in_features=1, out_features=1, bias=True)\n",
      ")\n",
      "tensor([[ 0.9246],\n",
      "        [ 1.1853],\n",
      "        [ 0.9537],\n",
      "        [ 0.3999],\n",
      "        [ 0.2945],\n",
      "        [ 1.8692],\n",
      "        [ 0.0815],\n",
      "        [-0.0594],\n",
      "        [ 0.7523],\n",
      "        [-0.2576]])\n",
      "tensor([[4.8494],\n",
      "        [5.5710],\n",
      "        [4.6325],\n",
      "        [3.2161],\n",
      "        [2.7331],\n",
      "        [8.0044],\n",
      "        [2.1698],\n",
      "        [1.7032],\n",
      "        [4.3893],\n",
      "        [1.1482]])\n"
     ]
    }
   ],
   "source": [
    "# use a simpler model whose input and output are scalars, this is to make the following computing example more simpler\n",
    "model_2 = MyLinearModel(1,1)\n",
    "print(model_2)\n",
    "\n",
    "# make some data pairs\n",
    "x_train = torch.randn(10,1)\n",
    "# x_train = torch.arange(10,dtype=torch.float).reshape(-1,1)+1\n",
    "y_train = 3*x_train+2. # so that true parameters is weight=3 and bias=2\n",
    "\n",
    "n_train = torch.normal(0,0.2,size=(10,1)) # let's make some random pertubation to be added to the desired output\n",
    "y_train = y_train.add(n_train)\n",
    "\n",
    "\n",
    "# x_train = torch.tensor([[1.6],[2.1],[1.3],[4.8],[3.5]], dtype=torch.float).reshape(-1,1)\n",
    "# y_train = torch.tensor([[0],[0],[0],[1],[1]], dtype=torch.float).reshape(-1,1) \n",
    "\n",
    "print(x_train)\n",
    "print(y_train)\n",
    "# x_batches = data.DataLoader(x_train,batch_size=4)"
   ]
  },
  {
   "cell_type": "markdown",
   "id": "f318417e",
   "metadata": {},
   "source": [
    "##### Remark\n",
    "Since we only have limited training data pairs `x_train` and `y_train`, so in the following we use a relatively large epoch number. In this way, it is equivalent to evaluate the gradients using all of the data and then iterate over epochs, which is same as the concept of **batch training with full gradient descent** whereathe difference is that here our dataset for computing gradients is quite small. (Alternatively, one can \"generate\" enough amount of training data, and apply *mini-batch* SGD).\n",
    "\n",
    "Note further that, in the following we implement an optimizer using SGD **with nesterov momentum** for accelerated training. We used a learning rate of $0.001$ which seems slow, however, augmented by the nesterov momentum, this optimizer can lead to a convergence nearly as fast as the one obtained by using a (much larger) learning rate of $0.01$ but without any momentum. "
   ]
  },
  {
   "cell_type": "code",
   "execution_count": 7,
   "id": "c03a0c69",
   "metadata": {},
   "outputs": [],
   "source": [
    "# setup the loss and optimizer\n",
    "optimizer = optim.SGD(model_2.parameters(),lr=1e-3,momentum=0.9,nesterov=True) # SGD with nesterov momentum\n",
    "# optimizer = optim.SGD(model_2.parameters(),lr=1e-2) # vanilla SGD without momentum\n",
    "cost = nn.MSELoss()\n",
    "\n",
    "# setup the training device\n",
    "device = 'cuda' if torch.cuda.is_available() else 'cpu' \n",
    "\n",
    "# setup the total epoch number\n",
    "epochs = 2000\n",
    "\n",
    "# define a function for model training\n",
    "def TrainLinearModel(model,inputs, labels, loss, optimizer, epochs, device):\n",
    "    model.to(device)\n",
    "    inputs.to(device)\n",
    "    labels.to(device)\n",
    "    loss_track=torch.tensor([])\n",
    "    for epoch in range(epochs):\n",
    "        optimizer.zero_grad() # this is to clear the accumulated gradients for every epoch\n",
    "        outputs = model_2(inputs)\n",
    "        loss = cost(outputs,labels)\n",
    "        loss.backward()\n",
    "        optimizer.step() # this is wehere SGD updates the estimates of weights\n",
    "        loss_track = torch.cat((loss_track,loss.unsqueeze(0))) # append latest loss after model update\n",
    "    return loss_track\n",
    "\n",
    "# call the model traning function and get the loss records over epochs\n",
    "loss = TrainLinearModel(model=model_2,inputs=x_train,labels=y_train,loss=cost,optimizer=optimizer,epochs=epochs,device=device)"
   ]
  },
  {
   "cell_type": "markdown",
   "id": "1e58f56b",
   "metadata": {},
   "source": [
    "<div class=\"alert alert-info\"><h4>Caution</h4><p>\n",
    "1. We can only obtain the ``grad`` properties for the leaf nodes of the computational graph, which have ``requires_grad`` property set to ``True``. For all other nodes in our graph, gradients will not be available.\n",
    "<br>    \n",
    "2. We can only perform gradient calculations using ``backward`` once on a given graph, for performance reasons. If we need to do several ``backward`` calls on the same graph, we need to pass ``retain_graph=True`` to the ``backward`` call.\n",
    "</p></div>"
   ]
  },
  {
   "cell_type": "markdown",
   "id": "f34e2163",
   "metadata": {},
   "source": [
    "##### Show the training result"
   ]
  },
  {
   "cell_type": "code",
   "execution_count": 8,
   "id": "7efad842",
   "metadata": {},
   "outputs": [
    {
     "data": {
      "image/png": "[encoded data removed]",
      "text/plain": [
       "<Figure size 432x288 with 1 Axes>"
      ]
     },
     "metadata": {
      "needs_background": "light"
     },
     "output_type": "display_data"
    }
   ],
   "source": [
    "# visualize the learning process\n",
    "x=torch.arange(epochs)+1\n",
    "y=loss.detach()\n",
    "# print(x.size())\n",
    "# print(y.size())\n",
    "plt.plot(x.squeeze(),10*y.log10().squeeze(),label='training loss')\n",
    "plt.legend()\n",
    "plt.show()"
   ]
  },
  {
   "cell_type": "markdown",
   "id": "a26094ca",
   "metadata": {},
   "source": [
    "##### Compare with the ground truth\n",
    "Show and compare the learned parameters, recall that our theoretical model is $y=3x+2$. The learned parameter `linear.weight` is now $2.9947$, and the learned bias `linear.bias` is now $1.9942$ which is almost the same as the true parameters. "
   ]
  },
  {
   "cell_type": "code",
   "execution_count": 9,
   "id": "20864a59",
   "metadata": {},
   "outputs": [
    {
     "name": "stdout",
     "output_type": "stream",
     "text": [
      "Layer: linear.weight | Size: torch.Size([1, 1]) | Values : tensor([[3.1864]], grad_fn=<SliceBackward>) \n",
      "\n",
      "Layer: linear.bias | Size: torch.Size([1]) | Values : tensor([1.8840], grad_fn=<SliceBackward>) \n",
      "\n"
     ]
    }
   ],
   "source": [
    "for name, param in model_2.named_parameters():\n",
    "    print(f\"Layer: {name} | Size: {param.size()} | Values : {param[:2]} \\n\")"
   ]
  },
  {
   "cell_type": "code",
   "execution_count": 10,
   "id": "954e7acf",
   "metadata": {},
   "outputs": [],
   "source": [
    "# save the trained model\n",
    "torch.save(model_2.state_dict(),'./my-models/simple-linear-model.pt')"
   ]
  },
  {
   "cell_type": "code",
   "execution_count": 11,
   "id": "8f7839e3",
   "metadata": {},
   "outputs": [
    {
     "name": "stdout",
     "output_type": "stream",
     "text": [
      "OrderedDict([('linear.weight', tensor([[3.1864]])), ('linear.bias', tensor([1.8840]))])\n"
     ]
    }
   ],
   "source": [
    "print(model_2.state_dict())"
   ]
  },
  {
   "cell_type": "code",
   "execution_count": 12,
   "id": "9e1ff2bc",
   "metadata": {},
   "outputs": [
    {
     "data": {
      "image/png": "[encoded data removed]",
      "text/plain": [
       "<Figure size 432x288 with 1 Axes>"
      ]
     },
     "metadata": {
      "needs_background": "light"
     },
     "output_type": "display_data"
    }
   ],
   "source": [
    "with torch.no_grad():\n",
    "    plt.plot(x_train,y_train,'go',label='training data')\n",
    "    plt.plot(x_train,model_2(x_train).numpy(),label='prediction')\n",
    "    plt.legend()\n",
    "    plt.show"
   ]
  },
  {
   "cell_type": "markdown",
   "id": "b9cc4366",
   "metadata": {},
   "source": [
    "##### Using `torch.no_grad()`\n",
    "In the above example, after we have trained our model, using it to do forward pass prediction only, we no longer need to track the computation history for gradient computing, so in the syntax `plt.plt()` we can use `.detach()` for `model_2` to achieve this. Alternativley, we can use `with torch.no_grad():` environment."
   ]
  }
 ],
 "metadata": {
  "kernelspec": {
   "display_name": "Python 3",
   "language": "python",
   "name": "python3"
  },
  "language_info": {
   "codemirror_mode": {
    "name": "ipython",
    "version": 3
   },
   "file_extension": ".py",
   "mimetype": "text/x-python",
   "name": "python",
   "nbconvert_exporter": "python",
   "pygments_lexer": "ipython3",
   "version": "3.8.8"
  }
 },
 "nbformat": 4,
 "nbformat_minor": 5
}
