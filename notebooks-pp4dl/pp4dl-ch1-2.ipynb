{
 "cells": [
  {
   "cell_type": "markdown",
   "id": "82b5d3c2",
   "metadata": {},
   "source": [
    "# About\n",
    "In this note, we practice basic operations for building a simple neural network, following the book *Programming PyTorch for deep learning* and [official tutorial](https://pytorch.org/tutorials/beginner/basics/buildmodel_tutorial.html#build-the-neural-network)"
   ]
  },
  {
   "cell_type": "code",
   "execution_count": 1,
   "id": "916bdb7b",
   "metadata": {},
   "outputs": [],
   "source": [
    "import os\n",
    "import torch\n",
    "import torch.nn as nn\n",
    "import torch.nn.functional as F\n",
    "import torchvision\n",
    "from torchvision import transforms\n",
    "from torchvision import datasets\n",
    "import torch.utils.data as data"
   ]
  },
  {
   "cell_type": "code",
   "execution_count": 2,
   "id": "1fa09d44",
   "metadata": {},
   "outputs": [],
   "source": [
    "# path_data_train = os.path.join('mnist\\processed','training.pt')\n",
    "# path_data_test = os.path.join('mnist\\processed','test.pt')\n",
    "# print(path_data_train)\n",
    "# print(path_data_test)"
   ]
  },
  {
   "cell_type": "markdown",
   "id": "1efbdac3",
   "metadata": {},
   "source": [
    "##### Prepare data from existing CIFAR10 dataset directory"
   ]
  },
  {
   "cell_type": "code",
   "execution_count": 13,
   "id": "58899d43",
   "metadata": {},
   "outputs": [
    {
     "data": {
      "text/plain": [
       "782"
      ]
     },
     "execution_count": 13,
     "metadata": {},
     "output_type": "execute_result"
    }
   ],
   "source": [
    "data_path = 'cifar10'\n",
    "my_transform = transforms.ToTensor()\n",
    "bsize=64\n",
    "data_train = datasets.CIFAR10(root=data_path,train=True,download=False,transform=my_transform)\n",
    "data_test = datasets.CIFAR10(root=data_path,train=False,download=False,transform=my_transform)\n",
    "# data_train = torchvision.datasets.ImageFolder(root=path_data_train)\n",
    "# data_test = torchvision.datasets.ImageFolder(root=path_data_test)\n",
    "dataloader_train = data.DataLoader(data_train,batch_size=bsize)\n",
    "dataloader_test = data.DataLoader(data_test,batch_size=bsize)\n"
   ]
  },
  {
   "cell_type": "code",
   "execution_count": 4,
   "id": "232bb295",
   "metadata": {},
   "outputs": [
    {
     "name": "stdout",
     "output_type": "stream",
     "text": [
      "44\n",
      "3072\n"
     ]
    }
   ],
   "source": [
    "torch.manual_seed(666)\n",
    "id = torch.randint(bsize,(1,)).item()\n",
    "print(id)\n",
    "features, labels=next(iter(dataloader_train))\n",
    "dim_input = features[id].reshape(1,-1).squeeze().size(-1)\n",
    "print(dim_input)"
   ]
  },
  {
   "cell_type": "markdown",
   "id": "a70f12f5",
   "metadata": {},
   "source": [
    "##### Build a simple NN model following the book"
   ]
  },
  {
   "cell_type": "code",
   "execution_count": 6,
   "id": "f3fd9eb2",
   "metadata": {},
   "outputs": [
    {
     "name": "stdout",
     "output_type": "stream",
     "text": [
      "MyFirstNet(\n",
      "  (fc1): Linear(in_features=3072, out_features=84, bias=True)\n",
      "  (fc2): Linear(in_features=84, out_features=50, bias=True)\n",
      "  (fc3): Linear(in_features=50, out_features=2, bias=True)\n",
      ")\n"
     ]
    }
   ],
   "source": [
    "class MyFirstNet(nn.Module):\n",
    "    def __init__(self):\n",
    "        super().__init__()\n",
    "        self.fc1=nn.Linear(dim_input,84)\n",
    "        self.fc2=nn.Linear(84,50)\n",
    "        self.fc3=nn.Linear(50,2)\n",
    "    \n",
    "    def forward(self):\n",
    "        x=x.reshape(-1,12288)\n",
    "        x=F.Relu(self.fc1(x))\n",
    "        x=F.Relu(self.fc2(x))\n",
    "        x=self.fc3(x)\n",
    "        return x\n",
    "    \n",
    "my_silly_net = MyFirstNet()\n",
    "print(my_silly_net)"
   ]
  },
  {
   "cell_type": "markdown",
   "id": "799109d1",
   "metadata": {},
   "source": [
    "##### Alternative approach learned from the official tutorial\n",
    "In the official PyTorch tutorial, they recommend to use `nn.sequential` to build the architecture of the model, which can be more efficient."
   ]
  },
  {
   "cell_type": "code",
   "execution_count": 7,
   "id": "d05816b4",
   "metadata": {},
   "outputs": [],
   "source": [
    "class MySecondNet(nn.Module):\n",
    "    def __init__(self):\n",
    "        super().__init__()\n",
    "        self.layer_stack = nn.Sequential(\n",
    "        nn.Linear(dim_input,512),\n",
    "        nn.ReLU(),\n",
    "        nn.Linear(512,512),\n",
    "        nn.ReLU(),\n",
    "        nn.Linear(512,10))\n",
    "        \n",
    "    def forward(self,x):\n",
    "        logits = self.layer_stack(x.reshape(1,-1).squeeze())\n",
    "        return logits"
   ]
  },
  {
   "cell_type": "markdown",
   "id": "e54e57b1",
   "metadata": {},
   "source": [
    "##### Setup of training device"
   ]
  },
  {
   "cell_type": "code",
   "execution_count": 8,
   "id": "9067122c",
   "metadata": {},
   "outputs": [
    {
     "name": "stdout",
     "output_type": "stream",
     "text": [
      "Using cpu device\n"
     ]
    },
    {
     "data": {
      "text/plain": [
       "MySecondNet(\n",
       "  (layer_stack): Sequential(\n",
       "    (0): Linear(in_features=3072, out_features=512, bias=True)\n",
       "    (1): ReLU()\n",
       "    (2): Linear(in_features=512, out_features=512, bias=True)\n",
       "    (3): ReLU()\n",
       "    (4): Linear(in_features=512, out_features=10, bias=True)\n",
       "  )\n",
       ")"
      ]
     },
     "execution_count": 8,
     "metadata": {},
     "output_type": "execute_result"
    }
   ],
   "source": [
    "device = 'cuda' if torch.cuda.is_available() else 'cpu'\n",
    "print('Using {} device'.format(device))\n",
    "\n",
    "my_silly_net2 = MySecondNet().to(device)\n",
    "my_silly_net2"
   ]
  },
  {
   "cell_type": "markdown",
   "id": "e7d8bbdf",
   "metadata": {},
   "source": [
    "##### Making predictions (dummy)\n",
    "In this note, we do not train our model, instead, we want to show how to get the result form a built model. For this purpose, we generate a random tensor for a dummy image, and insert it to our model, and get the dummy predictions using the NN class `MySecondNet` we have built and its instance `my_silly_net2`"
   ]
  },
  {
   "cell_type": "code",
   "execution_count": 9,
   "id": "ae3f25ea",
   "metadata": {},
   "outputs": [
    {
     "name": "stdout",
     "output_type": "stream",
     "text": [
      "tensor([-0.0032, -0.0152,  0.0324,  0.0238,  0.0563, -0.0329,  0.0236, -0.0011,\n",
      "        -0.0746,  0.1201], grad_fn=<AddBackward0>)\n",
      "tensor([0.0983, 0.0971, 0.1018, 0.1010, 0.1043, 0.0954, 0.1010, 0.0985, 0.0915,\n",
      "        0.1112], grad_fn=<SoftmaxBackward>)\n",
      "9\n"
     ]
    }
   ],
   "source": [
    "X = torch.rand(3, 32, 32, device=device) # dummy input image\n",
    "logits = my_silly_net2(X) # obtain the logits from model\n",
    "pred_prob = F.softmax(logits,dim=0) # calling softmax function to get the posterior probabilities\n",
    "pred_label = pred_prob.argmax().item() # get the label with highest probability\n",
    "print(logits)\n",
    "print(pred_prob)\n",
    "print(pred_label)"
   ]
  },
  {
   "cell_type": "markdown",
   "id": "33eb6d3c",
   "metadata": {},
   "source": [
    "##### Save the model\n",
    "There are two ways to save the model, i.e., save the weights, and save the weights together with the shape"
   ]
  },
  {
   "cell_type": "code",
   "execution_count": 10,
   "id": "0bf7d1d3",
   "metadata": {},
   "outputs": [],
   "source": [
    "path_model_save = './my-models/my-silly-net2.pth'\n",
    "torch.save(my_silly_net2, path_model_save) # save architecture together with weights\n",
    "torch.save(my_silly_net2.state_dict(),'./my-models/my-silly-net2-weights.pth') # save the weights only"
   ]
  },
  {
   "cell_type": "code",
   "execution_count": null,
   "id": "b5c059d1",
   "metadata": {},
   "outputs": [],
   "source": []
  }
 ],
 "metadata": {
  "kernelspec": {
   "display_name": "Python 3",
   "language": "python",
   "name": "python3"
  },
  "language_info": {
   "codemirror_mode": {
    "name": "ipython",
    "version": 3
   },
   "file_extension": ".py",
   "mimetype": "text/x-python",
   "name": "python",
   "nbconvert_exporter": "python",
   "pygments_lexer": "ipython3",
   "version": "3.8.8"
  }
 },
 "nbformat": 4,
 "nbformat_minor": 5
}
