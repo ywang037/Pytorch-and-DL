{
 "cells": [
  {
   "cell_type": "markdown",
   "id": "0c0a25cf-0ef9-4649-836b-00255cd778d6",
   "metadata": {},
   "source": [
    "# Set the GPU\n",
    "In this brief notebook, we will see how to get the GPU device number, the id, the name and set the GPU for pytorch scirpts. \n",
    "\n",
    "For more detailed API information, please refer to the [official docs](https://pytorch.org/docs/stable/cuda.html#module-torch.cuda) on `torch.cuda` package"
   ]
  },
  {
   "cell_type": "code",
   "execution_count": 1,
   "id": "a1d3648e-184c-4587-8f39-139d7911a4b6",
   "metadata": {},
   "outputs": [],
   "source": [
    "import torch"
   ]
  },
  {
   "cell_type": "code",
   "execution_count": 2,
   "id": "5e9ac9dd-58d0-42ba-900c-76b99c1ca003",
   "metadata": {},
   "outputs": [
    {
     "data": {
      "text/plain": [
       "True"
      ]
     },
     "execution_count": 2,
     "metadata": {},
     "output_type": "execute_result"
    }
   ],
   "source": [
    "# to see if GPU is usable on this machine\n",
    "torch.cuda.is_available()"
   ]
  },
  {
   "cell_type": "code",
   "execution_count": 6,
   "id": "987920a7-d092-4c94-986b-253193eb8af1",
   "metadata": {},
   "outputs": [
    {
     "data": {
      "text/plain": [
       "1"
      ]
     },
     "execution_count": 6,
     "metadata": {},
     "output_type": "execute_result"
    }
   ],
   "source": [
    "# to see how many GPU is avaialbe on this machine,  the return is an int\n",
    "torch.cuda.device_count()"
   ]
  },
  {
   "cell_type": "code",
   "execution_count": 4,
   "id": "70efb906-dfa9-4143-961f-65b3269dfe9d",
   "metadata": {},
   "outputs": [
    {
     "data": {
      "text/plain": [
       "0"
      ]
     },
     "execution_count": 4,
     "metadata": {},
     "output_type": "execute_result"
    }
   ],
   "source": [
    "# to get the id of current GPU, the return is an int\n",
    "torch.cuda.current_device()"
   ]
  },
  {
   "cell_type": "code",
   "execution_count": 9,
   "id": "ebe1c31a-5ea2-400e-8967-6be7b88f5171",
   "metadata": {},
   "outputs": [
    {
     "data": {
      "text/plain": [
       "'GeForce GTX 1050'"
      ]
     },
     "execution_count": 9,
     "metadata": {},
     "output_type": "execute_result"
    }
   ],
   "source": [
    "# to get the name of current GPU, return is a str\n",
    "torch.cuda.get_device_name(torch.cuda.current_device())"
   ]
  },
  {
   "cell_type": "code",
   "execution_count": 10,
   "id": "17e2cbb1-852f-4ee5-912e-840c6266c22d",
   "metadata": {},
   "outputs": [
    {
     "data": {
      "text/plain": [
       "<torch.cuda.device at 0x1a8a6501460>"
      ]
     },
     "execution_count": 10,
     "metadata": {},
     "output_type": "execute_result"
    }
   ],
   "source": [
    "# set the GPU for operations\n",
    "torch.cuda.device(torch.cuda.current_device())"
   ]
  },
  {
   "cell_type": "code",
   "execution_count": 11,
   "id": "9053b1be-f925-4895-868e-01daae1cacd2",
   "metadata": {},
   "outputs": [],
   "source": [
    "# assign a 'cuda' as the identifier for the device \n",
    "some_syntax = torch.cuda.is_available() # the r.h.s can be replaced by any bool-valued function \n",
    "device = 'cuda' if some_syntax else 'cpu'"
   ]
  },
  {
   "cell_type": "code",
   "execution_count": 12,
   "id": "0e9c45b2-8983-48b7-8cd0-17362cdadc95",
   "metadata": {},
   "outputs": [
    {
     "data": {
      "text/plain": [
       "'cuda'"
      ]
     },
     "execution_count": 12,
     "metadata": {},
     "output_type": "execute_result"
    }
   ],
   "source": [
    "device"
   ]
  },
  {
   "cell_type": "code",
   "execution_count": null,
   "id": "67c129a4-f387-4f3d-bbc4-b37be2d20102",
   "metadata": {},
   "outputs": [],
   "source": []
  }
 ],
 "metadata": {
  "kernelspec": {
   "display_name": "Python 3",
   "language": "python",
   "name": "python3"
  },
  "language_info": {
   "codemirror_mode": {
    "name": "ipython",
    "version": 3
   },
   "file_extension": ".py",
   "mimetype": "text/x-python",
   "name": "python",
   "nbconvert_exporter": "python",
   "pygments_lexer": "ipython3",
   "version": "3.8.8"
  }
 },
 "nbformat": 4,
 "nbformat_minor": 5
}
