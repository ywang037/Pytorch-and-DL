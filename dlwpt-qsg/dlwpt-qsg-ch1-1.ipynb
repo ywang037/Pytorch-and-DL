{
 "cells": [
  {
   "cell_type": "markdown",
   "id": "bf987dd9",
   "metadata": {},
   "source": [
    "# About\n",
    "In this notebook, we practice **basic PyTorch operations** by following chapter 1 of the book *Deep learning with PyTorch: quick start guide*"
   ]
  },
  {
   "cell_type": "code",
   "execution_count": 1,
   "id": "00ffa506",
   "metadata": {},
   "outputs": [],
   "source": [
    "import torch\n",
    "import numpy as np"
   ]
  },
  {
   "cell_type": "markdown",
   "id": "485a2ff7",
   "metadata": {},
   "source": [
    "#####\n",
    "Let's first do some convertion between array/tensor in numpy and PyTorch"
   ]
  },
  {
   "cell_type": "code",
   "execution_count": 2,
   "id": "3d199a44",
   "metadata": {},
   "outputs": [],
   "source": [
    "xnp = np.array([[1,2,3],[4,5,6]])"
   ]
  },
  {
   "cell_type": "code",
   "execution_count": 3,
   "id": "fc566886",
   "metadata": {},
   "outputs": [
    {
     "data": {
      "text/plain": [
       "array([[1, 2, 3],\n",
       "       [4, 5, 6]])"
      ]
     },
     "execution_count": 3,
     "metadata": {},
     "output_type": "execute_result"
    }
   ],
   "source": [
    "xnp"
   ]
  },
  {
   "cell_type": "code",
   "execution_count": 4,
   "id": "f4dea01b",
   "metadata": {},
   "outputs": [
    {
     "data": {
      "text/plain": [
       "dtype('int32')"
      ]
     },
     "execution_count": 4,
     "metadata": {},
     "output_type": "execute_result"
    }
   ],
   "source": [
    "xnp.dtype # show the data type in the memory"
   ]
  },
  {
   "cell_type": "code",
   "execution_count": 5,
   "id": "8f016147",
   "metadata": {},
   "outputs": [
    {
     "data": {
      "text/plain": [
       "numpy.ndarray"
      ]
     },
     "execution_count": 5,
     "metadata": {},
     "output_type": "execute_result"
    }
   ],
   "source": [
    "type(xnp) # show the class of the object"
   ]
  },
  {
   "cell_type": "code",
   "execution_count": 6,
   "id": "028d93f5",
   "metadata": {},
   "outputs": [
    {
     "data": {
      "text/plain": [
       "tensor([[ 7,  8,  9],\n",
       "        [10, 11, 12]])"
      ]
     },
     "execution_count": 6,
     "metadata": {},
     "output_type": "execute_result"
    }
   ],
   "source": [
    "yt = torch.tensor([[7,8,9],[10,11,12]])\n",
    "yt"
   ]
  },
  {
   "cell_type": "code",
   "execution_count": 7,
   "id": "163749b4",
   "metadata": {},
   "outputs": [
    {
     "data": {
      "text/plain": [
       "torch.int64"
      ]
     },
     "execution_count": 7,
     "metadata": {},
     "output_type": "execute_result"
    }
   ],
   "source": [
    "yt.dtype # show the data type in the memory"
   ]
  },
  {
   "cell_type": "code",
   "execution_count": 8,
   "id": "79206479",
   "metadata": {},
   "outputs": [
    {
     "data": {
      "text/plain": [
       "torch.Tensor"
      ]
     },
     "execution_count": 8,
     "metadata": {},
     "output_type": "execute_result"
    }
   ],
   "source": [
    "type(yt) # show the class of the object"
   ]
  },
  {
   "cell_type": "code",
   "execution_count": 9,
   "id": "f3bfbe84",
   "metadata": {},
   "outputs": [
    {
     "data": {
      "text/plain": [
       "'torch.LongTensor'"
      ]
     },
     "execution_count": 9,
     "metadata": {},
     "output_type": "execute_result"
    }
   ],
   "source": [
    "yt.type() # show the detailed pytorch class"
   ]
  },
  {
   "cell_type": "code",
   "execution_count": 10,
   "id": "11589720",
   "metadata": {},
   "outputs": [
    {
     "data": {
      "text/plain": [
       "tensor([[ 8, 10, 12],\n",
       "        [14, 16, 18]])"
      ]
     },
     "execution_count": 10,
     "metadata": {},
     "output_type": "execute_result"
    }
   ],
   "source": [
    "# observe the data type/class of the sum\n",
    "f1 = yt + xnp # this operation cast the result into an pytorch tensor object with dtype=int64\n",
    "f1"
   ]
  },
  {
   "cell_type": "code",
   "execution_count": 11,
   "id": "ff37d9e4",
   "metadata": {},
   "outputs": [
    {
     "data": {
      "text/plain": [
       "torch.int64"
      ]
     },
     "execution_count": 11,
     "metadata": {},
     "output_type": "execute_result"
    }
   ],
   "source": [
    "f1.dtype"
   ]
  },
  {
   "cell_type": "code",
   "execution_count": 12,
   "id": "7d22dc5a",
   "metadata": {},
   "outputs": [
    {
     "data": {
      "text/plain": [
       "'torch.LongTensor'"
      ]
     },
     "execution_count": 12,
     "metadata": {},
     "output_type": "execute_result"
    }
   ],
   "source": [
    "f1.type()"
   ]
  },
  {
   "cell_type": "code",
   "execution_count": 46,
   "id": "dcdbf4ef",
   "metadata": {},
   "outputs": [],
   "source": [
    "# Note that the following will through an error since tensor.add() requires that the input muust be tensors\n",
    "# f2 = yt.add(xnp,dtype=torch.int32)"
   ]
  },
  {
   "cell_type": "code",
   "execution_count": 14,
   "id": "d50d5cef",
   "metadata": {},
   "outputs": [
    {
     "data": {
      "text/plain": [
       "tensor([[ 8, 10, 12],\n",
       "        [14, 16, 18]], dtype=torch.int32)"
      ]
     },
     "execution_count": 14,
     "metadata": {},
     "output_type": "execute_result"
    }
   ],
   "source": [
    "f1.int()"
   ]
  },
  {
   "cell_type": "code",
   "execution_count": 15,
   "id": "be08db3e",
   "metadata": {},
   "outputs": [
    {
     "data": {
      "text/plain": [
       "tensor([[ 8., 10., 12.],\n",
       "        [14., 16., 18.]])"
      ]
     },
     "execution_count": 15,
     "metadata": {},
     "output_type": "execute_result"
    }
   ],
   "source": [
    "f1.float()"
   ]
  },
  {
   "cell_type": "code",
   "execution_count": 16,
   "id": "78134b81",
   "metadata": {},
   "outputs": [
    {
     "data": {
      "text/plain": [
       "tensor([[ 8, 10, 12],\n",
       "        [14, 16, 18]])"
      ]
     },
     "execution_count": 16,
     "metadata": {},
     "output_type": "execute_result"
    }
   ],
   "source": [
    "f1.long()"
   ]
  },
  {
   "cell_type": "code",
   "execution_count": 17,
   "id": "7bffdedd",
   "metadata": {},
   "outputs": [
    {
     "data": {
      "text/plain": [
       "'torch.LongTensor'"
      ]
     },
     "execution_count": 17,
     "metadata": {},
     "output_type": "execute_result"
    }
   ],
   "source": [
    "f1.type()"
   ]
  },
  {
   "cell_type": "code",
   "execution_count": 18,
   "id": "90de2e3d",
   "metadata": {},
   "outputs": [
    {
     "data": {
      "text/plain": [
       "torch.int64"
      ]
     },
     "execution_count": 18,
     "metadata": {},
     "output_type": "execute_result"
    }
   ],
   "source": [
    "f1.dtype"
   ]
  },
  {
   "cell_type": "code",
   "execution_count": 19,
   "id": "86be1d93",
   "metadata": {},
   "outputs": [
    {
     "name": "stdout",
     "output_type": "stream",
     "text": [
      "tensor([[1, 2, 3],\n",
      "        [4, 5, 6]], dtype=torch.int32)\n",
      "torch.IntTensor\n"
     ]
    }
   ],
   "source": [
    "# create pytorch tensor from numpy array\n",
    "xt = torch.from_numpy(xnp)\n",
    "print(xt)\n",
    "print(xt.type())"
   ]
  },
  {
   "cell_type": "code",
   "execution_count": 32,
   "id": "8609e715",
   "metadata": {},
   "outputs": [
    {
     "data": {
      "text/plain": [
       "torch.int32"
      ]
     },
     "execution_count": 32,
     "metadata": {},
     "output_type": "execute_result"
    }
   ],
   "source": [
    "# create pytorch tensor from numpy array\n",
    "xt = torch.from_numpy(xnp)\n",
    "xt.dtype"
   ]
  },
  {
   "cell_type": "code",
   "execution_count": 43,
   "id": "c6825ce9",
   "metadata": {},
   "outputs": [
    {
     "data": {
      "text/plain": [
       "torch.int64"
      ]
     },
     "execution_count": 43,
     "metadata": {},
     "output_type": "execute_result"
    }
   ],
   "source": [
    "xt1=xt.long() # convert tensor xt into int64/longtensor from int32\n",
    "xt1.dtype"
   ]
  },
  {
   "cell_type": "markdown",
   "id": "0ab3f629",
   "metadata": {},
   "source": [
    "##### CAUTION\n",
    "In pytorch, calling methods of a tensor-class object, won't change the object itself. E.g., in the above lines, if we only hit `xt.long()` followed by `xt.dtype` we will see the dtype of xt is still shown as `torch.int32`. If one wants to change the object, then assignment like `xt=xt.long()` should be used. Similar effects go for `tensor.add()` or `tensor.mul()` etc. Alternative to using assignment operation, one can also use in place operations like `x.add_()` but in general this approach is not safe and not the best practice to recommend."
   ]
  },
  {
   "cell_type": "code",
   "execution_count": 45,
   "id": "7ce81bd9",
   "metadata": {},
   "outputs": [
    {
     "name": "stdout",
     "output_type": "stream",
     "text": [
      "tensor([[1, 2, 3],\n",
      "        [4, 5, 6]])\n",
      "torch.LongTensor\n"
     ]
    }
   ],
   "source": [
    "# First change the dtype in numpy and then conver to torch tensor\n",
    "# xnp2 = xnp.astype(np.int64)\n",
    "xt2 = torch.from_numpy(xnp.astype(np.int64))\n",
    "print(xt2)\n",
    "print(xt2.type())"
   ]
  },
  {
   "cell_type": "markdown",
   "id": "18d9c526",
   "metadata": {},
   "source": [
    "##### CAUTION\n",
    "Note that numpy arrays and the **directly** converted pytorch tensor share the same memory space, i.e., change the source numpy array can also change the elements in the converted pytorch tensor"
   ]
  },
  {
   "cell_type": "code",
   "execution_count": 47,
   "id": "bdd9ecb1",
   "metadata": {},
   "outputs": [
    {
     "data": {
      "text/plain": [
       "array([[1, 2, 3],\n",
       "       [4, 5, 6]])"
      ]
     },
     "execution_count": 47,
     "metadata": {},
     "output_type": "execute_result"
    }
   ],
   "source": [
    "xnp"
   ]
  },
  {
   "cell_type": "code",
   "execution_count": 49,
   "id": "a62a1410",
   "metadata": {},
   "outputs": [
    {
     "data": {
      "text/plain": [
       "array([[ 1, 10,  3],\n",
       "       [ 4,  5,  6]])"
      ]
     },
     "execution_count": 49,
     "metadata": {},
     "output_type": "execute_result"
    }
   ],
   "source": [
    "xnp[0][1] = 10\n",
    "xnp"
   ]
  },
  {
   "cell_type": "code",
   "execution_count": 50,
   "id": "42fe79ce",
   "metadata": {},
   "outputs": [
    {
     "data": {
      "text/plain": [
       "tensor([[ 1, 10,  3],\n",
       "        [ 4,  5,  6]], dtype=torch.int32)"
      ]
     },
     "execution_count": 50,
     "metadata": {},
     "output_type": "execute_result"
    }
   ],
   "source": [
    "xt # since xt is the tensor directly converted from numpy array xnp, so xt[0][1] will change accordingly"
   ]
  },
  {
   "cell_type": "code",
   "execution_count": 51,
   "id": "da044d79",
   "metadata": {},
   "outputs": [
    {
     "data": {
      "text/plain": [
       "tensor([[1, 2, 3],\n",
       "        [4, 5, 6]])"
      ]
     },
     "execution_count": 51,
     "metadata": {},
     "output_type": "execute_result"
    }
   ],
   "source": [
    "xt1 # since xt1 is constructed by xt.long(), not directly from xnp, so it won't change as xnp changes"
   ]
  },
  {
   "cell_type": "code",
   "execution_count": 53,
   "id": "84e6520f",
   "metadata": {},
   "outputs": [
    {
     "data": {
      "text/plain": [
       "tensor([[1, 2, 3],\n",
       "        [4, 5, 6]])"
      ]
     },
     "execution_count": 53,
     "metadata": {},
     "output_type": "execute_result"
    }
   ],
   "source": [
    "xt2 # xt2 is converted from xt1, but before conversion, xnp undergoes a dtype change, so not a directly conversion from xnp"
   ]
  },
  {
   "cell_type": "code",
   "execution_count": null,
   "id": "6e301df4",
   "metadata": {},
   "outputs": [],
   "source": []
  }
 ],
 "metadata": {
  "kernelspec": {
   "display_name": "Python 3",
   "language": "python",
   "name": "python3"
  },
  "language_info": {
   "codemirror_mode": {
    "name": "ipython",
    "version": 3
   },
   "file_extension": ".py",
   "mimetype": "text/x-python",
   "name": "python",
   "nbconvert_exporter": "python",
   "pygments_lexer": "ipython3",
   "version": "3.8.8"
  }
 },
 "nbformat": 4,
 "nbformat_minor": 5
}
